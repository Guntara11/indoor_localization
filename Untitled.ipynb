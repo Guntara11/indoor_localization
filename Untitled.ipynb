{
 "cells": [
  {
   "cell_type": "code",
   "execution_count": 1,
   "id": "55d68a1d-e88c-4ef9-8cff-3204bc6700fe",
   "metadata": {},
   "outputs": [
    {
     "data": {
      "text/plain": [
       "'C:\\\\Users\\\\asus\\\\Documents\\\\project_ega\\\\freelance\\\\\\u200cIndoor Localization'"
      ]
     },
     "execution_count": 1,
     "metadata": {},
     "output_type": "execute_result"
    }
   ],
   "source": [
    "pwd"
   ]
  },
  {
   "cell_type": "code",
   "execution_count": 2,
   "id": "a1207b7a-cf76-446f-b800-559d726b6af0",
   "metadata": {},
   "outputs": [
    {
     "name": "stdout",
     "output_type": "stream",
     "text": [
      "Package                   Version\n",
      "------------------------- ------------\n",
      "anyio                     4.0.0\n",
      "argon2-cffi               23.1.0\n",
      "argon2-cffi-bindings      21.2.0\n",
      "arrow                     1.3.0\n",
      "asttokens                 2.4.0\n",
      "async-lru                 2.0.4\n",
      "attrs                     23.1.0\n",
      "Babel                     2.13.0\n",
      "backcall                  0.2.0\n",
      "beautifulsoup4            4.12.2\n",
      "bleach                    6.1.0\n",
      "certifi                   2023.7.22\n",
      "cffi                      1.16.0\n",
      "charset-normalizer        3.3.0\n",
      "colorama                  0.4.6\n",
      "comm                      0.1.4\n",
      "contourpy                 1.1.1\n",
      "cycler                    0.11.0\n",
      "debugpy                   1.8.0\n",
      "decorator                 5.1.1\n",
      "defusedxml                0.7.1\n",
      "et-xmlfile                1.1.0\n",
      "exceptiongroup            1.1.3\n",
      "executing                 2.0.0\n",
      "fastjsonschema            2.18.1\n",
      "fonttools                 4.42.1\n",
      "fqdn                      1.5.1\n",
      "idna                      3.4\n",
      "importlib-metadata        6.8.0\n",
      "importlib-resources       6.1.0\n",
      "ipykernel                 6.25.2\n",
      "ipython                   8.16.1\n",
      "ipython-genutils          0.2.0\n",
      "ipywidgets                8.1.1\n",
      "isoduration               20.11.0\n",
      "jedi                      0.19.1\n",
      "Jinja2                    3.1.2\n",
      "joblib                    1.3.2\n",
      "json5                     0.9.14\n",
      "jsonpointer               2.4\n",
      "jsonschema                4.19.1\n",
      "jsonschema-specifications 2023.7.1\n",
      "jupyter                   1.0.0\n",
      "jupyter_client            8.3.1\n",
      "jupyter-console           6.6.3\n",
      "jupyter_core              5.3.2\n",
      "jupyter-events            0.7.0\n",
      "jupyter-lsp               2.2.0\n",
      "jupyter_server            2.7.3\n",
      "jupyter_server_terminals  0.4.4\n",
      "jupyterlab                4.0.6\n",
      "jupyterlab-pygments       0.2.2\n",
      "jupyterlab_server         2.25.0\n",
      "jupyterlab-widgets        3.0.9\n",
      "kiwisolver                1.4.5\n",
      "MarkupSafe                2.1.3\n",
      "matplotlib                3.8.0\n",
      "matplotlib-inline         0.1.6\n",
      "mistune                   3.0.2\n",
      "nbclient                  0.8.0\n",
      "nbconvert                 7.9.2\n",
      "nbformat                  5.9.2\n",
      "nest-asyncio              1.5.8\n",
      "notebook                  7.0.4\n",
      "notebook_shim             0.2.3\n",
      "numpy                     1.26.0\n",
      "openpyxl                  3.1.2\n",
      "overrides                 7.4.0\n",
      "packaging                 23.1\n",
      "pandas                    2.1.1\n",
      "pandocfilters             1.5.0\n",
      "parso                     0.8.3\n",
      "pickleshare               0.7.5\n",
      "Pillow                    10.0.1\n",
      "pip                       22.0.4\n",
      "platformdirs              3.11.0\n",
      "prometheus-client         0.17.1\n",
      "prompt-toolkit            3.0.39\n",
      "psutil                    5.9.5\n",
      "pure-eval                 0.2.2\n",
      "pycparser                 2.21\n",
      "Pygments                  2.16.1\n",
      "pyparsing                 3.1.1\n",
      "python-dateutil           2.8.2\n",
      "python-json-logger        2.0.7\n",
      "pytz                      2023.3.post1\n",
      "pywin32                   306\n",
      "pywinpty                  2.0.12\n",
      "PyYAML                    6.0.1\n",
      "pyzmq                     25.1.1\n",
      "qtconsole                 5.4.4\n",
      "QtPy                      2.4.0\n",
      "referencing               0.30.2\n",
      "requests                  2.31.0\n",
      "rfc3339-validator         0.1.4\n",
      "rfc3986-validator         0.1.1\n",
      "rpds-py                   0.10.4\n",
      "scikit-learn              1.3.1\n",
      "scipy                     1.11.3\n",
      "Send2Trash                1.8.2\n",
      "setuptools                58.1.0\n",
      "six                       1.16.0\n",
      "sniffio                   1.3.0\n",
      "soupsieve                 2.5\n",
      "stack-data                0.6.3\n",
      "terminado                 0.17.1\n",
      "threadpoolctl             3.2.0\n",
      "tinycss2                  1.2.1\n",
      "tomli                     2.0.1\n",
      "tornado                   6.3.3\n",
      "traitlets                 5.11.2\n",
      "types-python-dateutil     2.8.19.14\n",
      "typing_extensions         4.8.0\n",
      "tzdata                    2023.3\n",
      "uri-template              1.3.0\n",
      "urllib3                   2.0.6\n",
      "wcwidth                   0.2.8\n",
      "webcolors                 1.13\n",
      "webencodings              0.5.1\n",
      "websocket-client          1.6.3\n",
      "widgetsnbextension        4.0.9\n",
      "zipp                      3.17.0\n",
      "Note: you may need to restart the kernel to use updated packages.\n"
     ]
    },
    {
     "name": "stderr",
     "output_type": "stream",
     "text": [
      "WARNING: You are using pip version 22.0.4; however, version 23.2.1 is available.\n",
      "You should consider upgrading via the 'C:\\Users\\asus\\Documents\\project_ega\\freelance\\\\u200cIndoor Localization\\env\\Scripts\\python.exe -m pip install --upgrade pip' command.\n"
     ]
    }
   ],
   "source": [
    "pip list"
   ]
  },
  {
   "cell_type": "code",
   "execution_count": 3,
   "id": "28d22a38-b407-460d-bbbb-6a4e9a943b9a",
   "metadata": {},
   "outputs": [
    {
     "name": "stdout",
     "output_type": "stream",
     "text": [
      "C:\\Users\\asus\\Documents\\project_ega\\freelance\\‌Indoor Localization\\env\\Scripts\n"
     ]
    }
   ],
   "source": [
    "cd env//Scripts"
   ]
  },
  {
   "cell_type": "code",
   "execution_count": null,
   "id": "acbf02d0-03a8-4d8f-bec1-96d6c5fa5e88",
   "metadata": {},
   "outputs": [],
   "source": []
  }
 ],
 "metadata": {
  "kernelspec": {
   "display_name": "env",
   "language": "python",
   "name": "env"
  },
  "language_info": {
   "codemirror_mode": {
    "name": "ipython",
    "version": 3
   },
   "file_extension": ".py",
   "mimetype": "text/x-python",
   "name": "python",
   "nbconvert_exporter": "python",
   "pygments_lexer": "ipython3",
   "version": "3.9.11"
  }
 },
 "nbformat": 4,
 "nbformat_minor": 5
}
